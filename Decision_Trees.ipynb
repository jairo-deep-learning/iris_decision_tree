{
  "nbformat": 4,
  "nbformat_minor": 0,
  "metadata": {
    "kernelspec": {
      "display_name": "Python 3",
      "language": "python",
      "name": "python3"
    },
    "language_info": {
      "codemirror_mode": {
        "name": "ipython",
        "version": 3
      },
      "file_extension": ".py",
      "mimetype": "text/x-python",
      "name": "python",
      "nbconvert_exporter": "python",
      "pygments_lexer": "ipython3",
      "version": "3.6.9"
    },
    "colab": {
      "name": "Decision Trees.ipynb",
      "provenance": [],
      "toc_visible": true
    }
  },
  "cells": [
    {
      "cell_type": "markdown",
      "metadata": {
        "id": "n6_65PY26__B"
      },
      "source": [
        "# Decision Trees for Iris dataset\n",
        "\n",
        "This is the \"Iris\" dataset. Originally published at UCI Machine Learning Repository: Iris Data Set, this small dataset from 1936 is often used for testing out machine learning algorithms and visualizations (for example, Scatter Plot). Each row of the table represents an iris flower, including its species and dimensions of its botanical parts, sepal and petal, in centimeters."
      ]
    },
    {
      "cell_type": "code",
      "metadata": {
        "id": "tw7fpANw6__F"
      },
      "source": [
        "import pandas as pd\n",
        "import matplotlib.pyplot as plt\n",
        "from sklearn.model_selection import train_test_split\n",
        "import numpy as np"
      ],
      "execution_count": 1,
      "outputs": []
    },
    {
      "cell_type": "code",
      "metadata": {
        "colab": {
          "base_uri": "https://localhost:8080/",
          "height": 204
        },
        "id": "nuNCLBR06__I",
        "outputId": "74d60685-b614-4ffc-df38-b78c708368df"
      },
      "source": [
        "data = pd.read_csv(\"iris.csv\")\n",
        "data.head()"
      ],
      "execution_count": 3,
      "outputs": [
        {
          "output_type": "execute_result",
          "data": {
            "text/html": [
              "<div>\n",
              "<style scoped>\n",
              "    .dataframe tbody tr th:only-of-type {\n",
              "        vertical-align: middle;\n",
              "    }\n",
              "\n",
              "    .dataframe tbody tr th {\n",
              "        vertical-align: top;\n",
              "    }\n",
              "\n",
              "    .dataframe thead th {\n",
              "        text-align: right;\n",
              "    }\n",
              "</style>\n",
              "<table border=\"1\" class=\"dataframe\">\n",
              "  <thead>\n",
              "    <tr style=\"text-align: right;\">\n",
              "      <th></th>\n",
              "      <th>Sepal.Length</th>\n",
              "      <th>Sepal.Width</th>\n",
              "      <th>Petal.Length</th>\n",
              "      <th>Petal.Width</th>\n",
              "      <th>Species</th>\n",
              "    </tr>\n",
              "  </thead>\n",
              "  <tbody>\n",
              "    <tr>\n",
              "      <th>0</th>\n",
              "      <td>5.1</td>\n",
              "      <td>3.5</td>\n",
              "      <td>1.4</td>\n",
              "      <td>0.2</td>\n",
              "      <td>setosa</td>\n",
              "    </tr>\n",
              "    <tr>\n",
              "      <th>1</th>\n",
              "      <td>4.9</td>\n",
              "      <td>3.0</td>\n",
              "      <td>1.4</td>\n",
              "      <td>0.2</td>\n",
              "      <td>setosa</td>\n",
              "    </tr>\n",
              "    <tr>\n",
              "      <th>2</th>\n",
              "      <td>4.7</td>\n",
              "      <td>3.2</td>\n",
              "      <td>1.3</td>\n",
              "      <td>0.2</td>\n",
              "      <td>setosa</td>\n",
              "    </tr>\n",
              "    <tr>\n",
              "      <th>3</th>\n",
              "      <td>4.6</td>\n",
              "      <td>3.1</td>\n",
              "      <td>1.5</td>\n",
              "      <td>0.2</td>\n",
              "      <td>setosa</td>\n",
              "    </tr>\n",
              "    <tr>\n",
              "      <th>4</th>\n",
              "      <td>5.0</td>\n",
              "      <td>3.6</td>\n",
              "      <td>1.4</td>\n",
              "      <td>0.2</td>\n",
              "      <td>setosa</td>\n",
              "    </tr>\n",
              "  </tbody>\n",
              "</table>\n",
              "</div>"
            ],
            "text/plain": [
              "   Sepal.Length  Sepal.Width  Petal.Length  Petal.Width Species\n",
              "0           5.1          3.5           1.4          0.2  setosa\n",
              "1           4.9          3.0           1.4          0.2  setosa\n",
              "2           4.7          3.2           1.3          0.2  setosa\n",
              "3           4.6          3.1           1.5          0.2  setosa\n",
              "4           5.0          3.6           1.4          0.2  setosa"
            ]
          },
          "metadata": {
            "tags": []
          },
          "execution_count": 3
        }
      ]
    },
    {
      "cell_type": "code",
      "metadata": {
        "colab": {
          "base_uri": "https://localhost:8080/",
          "height": 0
        },
        "id": "qv14pHSv6__I",
        "outputId": "d9303619-b996-4816-9c4f-e60970947f1b"
      },
      "source": [
        "data.shape"
      ],
      "execution_count": 4,
      "outputs": [
        {
          "output_type": "execute_result",
          "data": {
            "text/plain": [
              "(150, 5)"
            ]
          },
          "metadata": {
            "tags": []
          },
          "execution_count": 4
        }
      ]
    },
    {
      "cell_type": "markdown",
      "metadata": {
        "id": "szKPRygL8igX"
      },
      "source": [
        "### Data cleaning"
      ]
    },
    {
      "cell_type": "code",
      "metadata": {
        "id": "IqR8lokC6__J"
      },
      "source": [
        "def data_cleaning(data):\n",
        "  unique_values = []\n",
        "  na_values = []\n",
        "  null_values = []\n",
        "  columns = []\n",
        "\n",
        "  for column in data.columns.values:\n",
        "    unique_values.append(len(np.unique(data[column])))\n",
        "    na_values.append(list(data[column].isna()).count(True))\n",
        "    null_values.append(list(data[column].isnull()).count(True))\n",
        "    columns.append(column)\n",
        "\n",
        "  data_validated = pd.DataFrame(index=columns) \n",
        "  data_validated[\"unique_values\"] = list(unique_values)\n",
        "  data_validated[\"na_values\"] = list(na_values)\n",
        "  data_validated[\"null_values\"] = list(null_values)\n",
        "  return data_validated"
      ],
      "execution_count": 5,
      "outputs": []
    },
    {
      "cell_type": "code",
      "metadata": {
        "colab": {
          "base_uri": "https://localhost:8080/",
          "height": 204
        },
        "id": "FENX7X1879UD",
        "outputId": "5e31926d-615c-47b1-f59d-0beb0336c763"
      },
      "source": [
        "data_cleaning(data)"
      ],
      "execution_count": 6,
      "outputs": [
        {
          "output_type": "execute_result",
          "data": {
            "text/html": [
              "<div>\n",
              "<style scoped>\n",
              "    .dataframe tbody tr th:only-of-type {\n",
              "        vertical-align: middle;\n",
              "    }\n",
              "\n",
              "    .dataframe tbody tr th {\n",
              "        vertical-align: top;\n",
              "    }\n",
              "\n",
              "    .dataframe thead th {\n",
              "        text-align: right;\n",
              "    }\n",
              "</style>\n",
              "<table border=\"1\" class=\"dataframe\">\n",
              "  <thead>\n",
              "    <tr style=\"text-align: right;\">\n",
              "      <th></th>\n",
              "      <th>unique_values</th>\n",
              "      <th>na_values</th>\n",
              "      <th>null_values</th>\n",
              "    </tr>\n",
              "  </thead>\n",
              "  <tbody>\n",
              "    <tr>\n",
              "      <th>Sepal.Length</th>\n",
              "      <td>35</td>\n",
              "      <td>0</td>\n",
              "      <td>0</td>\n",
              "    </tr>\n",
              "    <tr>\n",
              "      <th>Sepal.Width</th>\n",
              "      <td>23</td>\n",
              "      <td>0</td>\n",
              "      <td>0</td>\n",
              "    </tr>\n",
              "    <tr>\n",
              "      <th>Petal.Length</th>\n",
              "      <td>43</td>\n",
              "      <td>0</td>\n",
              "      <td>0</td>\n",
              "    </tr>\n",
              "    <tr>\n",
              "      <th>Petal.Width</th>\n",
              "      <td>22</td>\n",
              "      <td>0</td>\n",
              "      <td>0</td>\n",
              "    </tr>\n",
              "    <tr>\n",
              "      <th>Species</th>\n",
              "      <td>3</td>\n",
              "      <td>0</td>\n",
              "      <td>0</td>\n",
              "    </tr>\n",
              "  </tbody>\n",
              "</table>\n",
              "</div>"
            ],
            "text/plain": [
              "              unique_values  na_values  null_values\n",
              "Sepal.Length             35          0            0\n",
              "Sepal.Width              23          0            0\n",
              "Petal.Length             43          0            0\n",
              "Petal.Width              22          0            0\n",
              "Species                   3          0            0"
            ]
          },
          "metadata": {
            "tags": []
          },
          "execution_count": 6
        }
      ]
    },
    {
      "cell_type": "code",
      "metadata": {
        "colab": {
          "base_uri": "https://localhost:8080/",
          "height": 0
        },
        "id": "C79Ve8dk8Gz8",
        "outputId": "639cdaa1-1d5e-46dd-883d-d550c3d22a6c"
      },
      "source": [
        "for column in data.columns.values:\n",
        "  print(column,\": \",np.unique(data[column]))"
      ],
      "execution_count": 10,
      "outputs": [
        {
          "output_type": "stream",
          "text": [
            "Sepal.Length :  [4.3 4.4 4.5 4.6 4.7 4.8 4.9 5.  5.1 5.2 5.3 5.4 5.5 5.6 5.7 5.8 5.9 6.\n",
            " 6.1 6.2 6.3 6.4 6.5 6.6 6.7 6.8 6.9 7.  7.1 7.2 7.3 7.4 7.6 7.7 7.9]\n",
            "Sepal.Width :  [2.  2.2 2.3 2.4 2.5 2.6 2.7 2.8 2.9 3.  3.1 3.2 3.3 3.4 3.5 3.6 3.7 3.8\n",
            " 3.9 4.  4.1 4.2 4.4]\n",
            "Petal.Length :  [1.  1.1 1.2 1.3 1.4 1.5 1.6 1.7 1.9 3.  3.3 3.5 3.6 3.7 3.8 3.9 4.  4.1\n",
            " 4.2 4.3 4.4 4.5 4.6 4.7 4.8 4.9 5.  5.1 5.2 5.3 5.4 5.5 5.6 5.7 5.8 5.9\n",
            " 6.  6.1 6.3 6.4 6.6 6.7 6.9]\n",
            "Petal.Width :  [0.1 0.2 0.3 0.4 0.5 0.6 1.  1.1 1.2 1.3 1.4 1.5 1.6 1.7 1.8 1.9 2.  2.1\n",
            " 2.2 2.3 2.4 2.5]\n",
            "Species :  ['setosa' 'versicolor' 'virginica']\n"
          ],
          "name": "stdout"
        }
      ]
    },
    {
      "cell_type": "markdown",
      "metadata": {
        "id": "lRUJ3_pL8o_9"
      },
      "source": [
        "### Preparing dataset for machine learning model"
      ]
    },
    {
      "cell_type": "code",
      "metadata": {
        "collapsed": true,
        "id": "Up92DHwK6__J"
      },
      "source": [
        "colnames = data.columns.values.tolist()\n",
        "predictors = colnames[:4]\n",
        "target = colnames[4]"
      ],
      "execution_count": 11,
      "outputs": []
    },
    {
      "cell_type": "code",
      "metadata": {
        "colab": {
          "base_uri": "https://localhost:8080/",
          "height": 204
        },
        "id": "kdput8lq6__K",
        "outputId": "7f1e9a4b-b261-496a-e939-a0656f36f75b"
      },
      "source": [
        "data[predictors].head()"
      ],
      "execution_count": 12,
      "outputs": [
        {
          "output_type": "execute_result",
          "data": {
            "text/html": [
              "<div>\n",
              "<style scoped>\n",
              "    .dataframe tbody tr th:only-of-type {\n",
              "        vertical-align: middle;\n",
              "    }\n",
              "\n",
              "    .dataframe tbody tr th {\n",
              "        vertical-align: top;\n",
              "    }\n",
              "\n",
              "    .dataframe thead th {\n",
              "        text-align: right;\n",
              "    }\n",
              "</style>\n",
              "<table border=\"1\" class=\"dataframe\">\n",
              "  <thead>\n",
              "    <tr style=\"text-align: right;\">\n",
              "      <th></th>\n",
              "      <th>Sepal.Length</th>\n",
              "      <th>Sepal.Width</th>\n",
              "      <th>Petal.Length</th>\n",
              "      <th>Petal.Width</th>\n",
              "    </tr>\n",
              "  </thead>\n",
              "  <tbody>\n",
              "    <tr>\n",
              "      <th>0</th>\n",
              "      <td>5.1</td>\n",
              "      <td>3.5</td>\n",
              "      <td>1.4</td>\n",
              "      <td>0.2</td>\n",
              "    </tr>\n",
              "    <tr>\n",
              "      <th>1</th>\n",
              "      <td>4.9</td>\n",
              "      <td>3.0</td>\n",
              "      <td>1.4</td>\n",
              "      <td>0.2</td>\n",
              "    </tr>\n",
              "    <tr>\n",
              "      <th>2</th>\n",
              "      <td>4.7</td>\n",
              "      <td>3.2</td>\n",
              "      <td>1.3</td>\n",
              "      <td>0.2</td>\n",
              "    </tr>\n",
              "    <tr>\n",
              "      <th>3</th>\n",
              "      <td>4.6</td>\n",
              "      <td>3.1</td>\n",
              "      <td>1.5</td>\n",
              "      <td>0.2</td>\n",
              "    </tr>\n",
              "    <tr>\n",
              "      <th>4</th>\n",
              "      <td>5.0</td>\n",
              "      <td>3.6</td>\n",
              "      <td>1.4</td>\n",
              "      <td>0.2</td>\n",
              "    </tr>\n",
              "  </tbody>\n",
              "</table>\n",
              "</div>"
            ],
            "text/plain": [
              "   Sepal.Length  Sepal.Width  Petal.Length  Petal.Width\n",
              "0           5.1          3.5           1.4          0.2\n",
              "1           4.9          3.0           1.4          0.2\n",
              "2           4.7          3.2           1.3          0.2\n",
              "3           4.6          3.1           1.5          0.2\n",
              "4           5.0          3.6           1.4          0.2"
            ]
          },
          "metadata": {
            "tags": []
          },
          "execution_count": 12
        }
      ]
    },
    {
      "cell_type": "code",
      "metadata": {
        "colab": {
          "base_uri": "https://localhost:8080/",
          "height": 204
        },
        "id": "UxUMdG_I6__K",
        "outputId": "02c51b6c-dddd-447f-abdc-2014612d6e0d"
      },
      "source": [
        "pd.DataFrame(data[target]).head()"
      ],
      "execution_count": 13,
      "outputs": [
        {
          "output_type": "execute_result",
          "data": {
            "text/html": [
              "<div>\n",
              "<style scoped>\n",
              "    .dataframe tbody tr th:only-of-type {\n",
              "        vertical-align: middle;\n",
              "    }\n",
              "\n",
              "    .dataframe tbody tr th {\n",
              "        vertical-align: top;\n",
              "    }\n",
              "\n",
              "    .dataframe thead th {\n",
              "        text-align: right;\n",
              "    }\n",
              "</style>\n",
              "<table border=\"1\" class=\"dataframe\">\n",
              "  <thead>\n",
              "    <tr style=\"text-align: right;\">\n",
              "      <th></th>\n",
              "      <th>Species</th>\n",
              "    </tr>\n",
              "  </thead>\n",
              "  <tbody>\n",
              "    <tr>\n",
              "      <th>0</th>\n",
              "      <td>setosa</td>\n",
              "    </tr>\n",
              "    <tr>\n",
              "      <th>1</th>\n",
              "      <td>setosa</td>\n",
              "    </tr>\n",
              "    <tr>\n",
              "      <th>2</th>\n",
              "      <td>setosa</td>\n",
              "    </tr>\n",
              "    <tr>\n",
              "      <th>3</th>\n",
              "      <td>setosa</td>\n",
              "    </tr>\n",
              "    <tr>\n",
              "      <th>4</th>\n",
              "      <td>setosa</td>\n",
              "    </tr>\n",
              "  </tbody>\n",
              "</table>\n",
              "</div>"
            ],
            "text/plain": [
              "  Species\n",
              "0  setosa\n",
              "1  setosa\n",
              "2  setosa\n",
              "3  setosa\n",
              "4  setosa"
            ]
          },
          "metadata": {
            "tags": []
          },
          "execution_count": 13
        }
      ]
    },
    {
      "cell_type": "code",
      "metadata": {
        "collapsed": true,
        "id": "nVnWl0yl6__L"
      },
      "source": [
        "X_train, X_test, y_train, y_test = train_test_split(data[predictors],data[target], test_size=0.33, random_state=42)"
      ],
      "execution_count": 14,
      "outputs": []
    },
    {
      "cell_type": "code",
      "metadata": {
        "colab": {
          "base_uri": "https://localhost:8080/",
          "height": 204
        },
        "id": "Er18U6Bu6__L",
        "outputId": "12710eee-1744-4619-8b79-9c2365d88861"
      },
      "source": [
        "pd.DataFrame(y_test).head()"
      ],
      "execution_count": 15,
      "outputs": [
        {
          "output_type": "execute_result",
          "data": {
            "text/html": [
              "<div>\n",
              "<style scoped>\n",
              "    .dataframe tbody tr th:only-of-type {\n",
              "        vertical-align: middle;\n",
              "    }\n",
              "\n",
              "    .dataframe tbody tr th {\n",
              "        vertical-align: top;\n",
              "    }\n",
              "\n",
              "    .dataframe thead th {\n",
              "        text-align: right;\n",
              "    }\n",
              "</style>\n",
              "<table border=\"1\" class=\"dataframe\">\n",
              "  <thead>\n",
              "    <tr style=\"text-align: right;\">\n",
              "      <th></th>\n",
              "      <th>Species</th>\n",
              "    </tr>\n",
              "  </thead>\n",
              "  <tbody>\n",
              "    <tr>\n",
              "      <th>73</th>\n",
              "      <td>versicolor</td>\n",
              "    </tr>\n",
              "    <tr>\n",
              "      <th>18</th>\n",
              "      <td>setosa</td>\n",
              "    </tr>\n",
              "    <tr>\n",
              "      <th>118</th>\n",
              "      <td>virginica</td>\n",
              "    </tr>\n",
              "    <tr>\n",
              "      <th>78</th>\n",
              "      <td>versicolor</td>\n",
              "    </tr>\n",
              "    <tr>\n",
              "      <th>76</th>\n",
              "      <td>versicolor</td>\n",
              "    </tr>\n",
              "  </tbody>\n",
              "</table>\n",
              "</div>"
            ],
            "text/plain": [
              "        Species\n",
              "73   versicolor\n",
              "18       setosa\n",
              "118   virginica\n",
              "78   versicolor\n",
              "76   versicolor"
            ]
          },
          "metadata": {
            "tags": []
          },
          "execution_count": 15
        }
      ]
    },
    {
      "cell_type": "markdown",
      "metadata": {
        "id": "naOTiPG16__L"
      },
      "source": [
        "### Decision Tree classifier"
      ]
    },
    {
      "cell_type": "code",
      "metadata": {
        "collapsed": true,
        "id": "mM-55EPM6__M"
      },
      "source": [
        "from sklearn.tree import DecisionTreeClassifier"
      ],
      "execution_count": 16,
      "outputs": []
    },
    {
      "cell_type": "code",
      "metadata": {
        "colab": {
          "base_uri": "https://localhost:8080/",
          "height": 0
        },
        "id": "5BLmyJjv6__M",
        "outputId": "0ed9f8e7-5950-40e0-de9e-87a381a1bb4f"
      },
      "source": [
        "tree = DecisionTreeClassifier(criterion = \"entropy\",min_samples_split=2,random_state=99)\n",
        "tree.fit(X_train,y_train)"
      ],
      "execution_count": 36,
      "outputs": [
        {
          "output_type": "execute_result",
          "data": {
            "text/plain": [
              "DecisionTreeClassifier(ccp_alpha=0.0, class_weight=None, criterion='entropy',\n",
              "                       max_depth=None, max_features=None, max_leaf_nodes=None,\n",
              "                       min_impurity_decrease=0.0, min_impurity_split=None,\n",
              "                       min_samples_leaf=1, min_samples_split=2,\n",
              "                       min_weight_fraction_leaf=0.0, presort='deprecated',\n",
              "                       random_state=99, splitter='best')"
            ]
          },
          "metadata": {
            "tags": []
          },
          "execution_count": 36
        }
      ]
    },
    {
      "cell_type": "code",
      "metadata": {
        "colab": {
          "base_uri": "https://localhost:8080/",
          "height": 173
        },
        "id": "-rgYZNDH6__M",
        "outputId": "baceaeab-b0fa-4c3f-c1b0-31184b92c964"
      },
      "source": [
        "preds = tree.predict(X_test)\n",
        "pd.crosstab(preds,y_test, rownames=[\"Predicciones\"],colnames=[\"Reales\"])"
      ],
      "execution_count": 37,
      "outputs": [
        {
          "output_type": "execute_result",
          "data": {
            "text/html": [
              "<div>\n",
              "<style scoped>\n",
              "    .dataframe tbody tr th:only-of-type {\n",
              "        vertical-align: middle;\n",
              "    }\n",
              "\n",
              "    .dataframe tbody tr th {\n",
              "        vertical-align: top;\n",
              "    }\n",
              "\n",
              "    .dataframe thead th {\n",
              "        text-align: right;\n",
              "    }\n",
              "</style>\n",
              "<table border=\"1\" class=\"dataframe\">\n",
              "  <thead>\n",
              "    <tr style=\"text-align: right;\">\n",
              "      <th>Reales</th>\n",
              "      <th>setosa</th>\n",
              "      <th>versicolor</th>\n",
              "      <th>virginica</th>\n",
              "    </tr>\n",
              "    <tr>\n",
              "      <th>Predicciones</th>\n",
              "      <th></th>\n",
              "      <th></th>\n",
              "      <th></th>\n",
              "    </tr>\n",
              "  </thead>\n",
              "  <tbody>\n",
              "    <tr>\n",
              "      <th>setosa</th>\n",
              "      <td>19</td>\n",
              "      <td>0</td>\n",
              "      <td>0</td>\n",
              "    </tr>\n",
              "    <tr>\n",
              "      <th>versicolor</th>\n",
              "      <td>0</td>\n",
              "      <td>15</td>\n",
              "      <td>1</td>\n",
              "    </tr>\n",
              "    <tr>\n",
              "      <th>virginica</th>\n",
              "      <td>0</td>\n",
              "      <td>0</td>\n",
              "      <td>15</td>\n",
              "    </tr>\n",
              "  </tbody>\n",
              "</table>\n",
              "</div>"
            ],
            "text/plain": [
              "Reales        setosa  versicolor  virginica\n",
              "Predicciones                               \n",
              "setosa            19           0          0\n",
              "versicolor         0          15          1\n",
              "virginica          0           0         15"
            ]
          },
          "metadata": {
            "tags": []
          },
          "execution_count": 37
        }
      ]
    },
    {
      "cell_type": "markdown",
      "metadata": {
        "collapsed": true,
        "id": "3zd0sSAh6__N"
      },
      "source": [
        "### Visualization "
      ]
    },
    {
      "cell_type": "code",
      "metadata": {
        "collapsed": true,
        "id": "HhKq-IJ_6__N"
      },
      "source": [
        "from sklearn.tree import export_graphviz"
      ],
      "execution_count": 19,
      "outputs": []
    },
    {
      "cell_type": "markdown",
      "metadata": {
        "id": "hpRHtF3i6__N"
      },
      "source": [
        "A .dot file is created for saving tree format so then it could be visualized"
      ]
    },
    {
      "cell_type": "code",
      "metadata": {
        "collapsed": true,
        "id": "ZsuxVyQz6__N"
      },
      "source": [
        "with open(\"iris_dtree.dot\",\"w\") as dotfile:\n",
        "    export_graphviz(tree, out_file = dotfile, feature_names = predictors)\n",
        "    dotfile.close()"
      ],
      "execution_count": 38,
      "outputs": []
    },
    {
      "cell_type": "code",
      "metadata": {
        "collapsed": true,
        "id": "iaJ4Cp536__N"
      },
      "source": [
        "import os\n",
        "from graphviz import Source"
      ],
      "execution_count": 39,
      "outputs": []
    },
    {
      "cell_type": "code",
      "metadata": {
        "colab": {
          "base_uri": "https://localhost:8080/",
          "height": 120
        },
        "id": "b2WeTtp26__O",
        "outputId": "0c5ac485-4545-4637-b34b-bdb4b236efe7"
      },
      "source": [
        "file = open(\"iris_dtree.dot\",\"r\")\n",
        "text = file.read()\n",
        "text\n"
      ],
      "execution_count": 40,
      "outputs": [
        {
          "output_type": "execute_result",
          "data": {
            "application/vnd.google.colaboratory.intrinsic+json": {
              "type": "string"
            },
            "text/plain": [
              "'digraph Tree {\\nnode [shape=box] ;\\n0 [label=\"Petal.Length <= 2.45\\\\nentropy = 1.583\\\\nsamples = 100\\\\nvalue = [31, 35, 34]\"] ;\\n1 [label=\"entropy = 0.0\\\\nsamples = 31\\\\nvalue = [31, 0, 0]\"] ;\\n0 -> 1 [labeldistance=2.5, labelangle=45, headlabel=\"True\"] ;\\n2 [label=\"Petal.Width <= 1.75\\\\nentropy = 1.0\\\\nsamples = 69\\\\nvalue = [0, 35, 34]\"] ;\\n0 -> 2 [labeldistance=2.5, labelangle=-45, headlabel=\"False\"] ;\\n3 [label=\"Petal.Length <= 5.35\\\\nentropy = 0.485\\\\nsamples = 38\\\\nvalue = [0, 34, 4]\"] ;\\n2 -> 3 ;\\n4 [label=\"Petal.Width <= 1.45\\\\nentropy = 0.31\\\\nsamples = 36\\\\nvalue = [0, 34, 2]\"] ;\\n3 -> 4 ;\\n5 [label=\"entropy = 0.0\\\\nsamples = 26\\\\nvalue = [0, 26, 0]\"] ;\\n4 -> 5 ;\\n6 [label=\"Sepal.Width <= 2.6\\\\nentropy = 0.722\\\\nsamples = 10\\\\nvalue = [0, 8, 2]\"] ;\\n4 -> 6 ;\\n7 [label=\"Sepal.Length <= 6.15\\\\nentropy = 0.918\\\\nsamples = 3\\\\nvalue = [0, 1, 2]\"] ;\\n6 -> 7 ;\\n8 [label=\"entropy = 0.0\\\\nsamples = 2\\\\nvalue = [0, 0, 2]\"] ;\\n7 -> 8 ;\\n9 [label=\"entropy = 0.0\\\\nsamples = 1\\\\nvalue = [0, 1, 0]\"] ;\\n7 -> 9 ;\\n10 [label=\"entropy = 0.0\\\\nsamples = 7\\\\nvalue = [0, 7, 0]\"] ;\\n6 -> 10 ;\\n11 [label=\"entropy = 0.0\\\\nsamples = 2\\\\nvalue = [0, 0, 2]\"] ;\\n3 -> 11 ;\\n12 [label=\"Petal.Length <= 4.85\\\\nentropy = 0.206\\\\nsamples = 31\\\\nvalue = [0, 1, 30]\"] ;\\n2 -> 12 ;\\n13 [label=\"Sepal.Length <= 5.95\\\\nentropy = 0.918\\\\nsamples = 3\\\\nvalue = [0, 1, 2]\"] ;\\n12 -> 13 ;\\n14 [label=\"entropy = 0.0\\\\nsamples = 1\\\\nvalue = [0, 1, 0]\"] ;\\n13 -> 14 ;\\n15 [label=\"entropy = 0.0\\\\nsamples = 2\\\\nvalue = [0, 0, 2]\"] ;\\n13 -> 15 ;\\n16 [label=\"entropy = 0.0\\\\nsamples = 28\\\\nvalue = [0, 0, 28]\"] ;\\n12 -> 16 ;\\n}'"
            ]
          },
          "metadata": {
            "tags": []
          },
          "execution_count": 40
        }
      ]
    },
    {
      "cell_type": "code",
      "metadata": {
        "colab": {
          "base_uri": "https://localhost:8080/",
          "height": 934
        },
        "id": "9KlbnsfX6__O",
        "outputId": "6fd13ef1-111a-4b47-a1fa-a7a5e8baed2b"
      },
      "source": [
        "Source(text)"
      ],
      "execution_count": 41,
      "outputs": [
        {
          "output_type": "execute_result",
          "data": {
            "text/plain": [
              "<graphviz.files.Source at 0x7fd1f1769c90>"
            ],
            "image/svg+xml": "<?xml version=\"1.0\" encoding=\"UTF-8\" standalone=\"no\"?>\n<!DOCTYPE svg PUBLIC \"-//W3C//DTD SVG 1.1//EN\"\n \"http://www.w3.org/Graphics/SVG/1.1/DTD/svg11.dtd\">\n<!-- Generated by graphviz version 2.40.1 (20161225.0304)\n -->\n<!-- Title: Tree Pages: 1 -->\n<svg width=\"625pt\" height=\"685pt\"\n viewBox=\"0.00 0.00 625.00 685.00\" xmlns=\"http://www.w3.org/2000/svg\" xmlns:xlink=\"http://www.w3.org/1999/xlink\">\n<g id=\"graph0\" class=\"graph\" transform=\"scale(1 1) rotate(0) translate(4 681)\">\n<title>Tree</title>\n<polygon fill=\"#ffffff\" stroke=\"transparent\" points=\"-4,4 -4,-681 621,-681 621,4 -4,4\"/>\n<!-- 0 -->\n<g id=\"node1\" class=\"node\">\n<title>0</title>\n<polygon fill=\"none\" stroke=\"#000000\" points=\"332.5,-677 192.5,-677 192.5,-609 332.5,-609 332.5,-677\"/>\n<text text-anchor=\"middle\" x=\"262.5\" y=\"-661.8\" font-family=\"Times,serif\" font-size=\"14.00\" fill=\"#000000\">Petal.Length &lt;= 2.45</text>\n<text text-anchor=\"middle\" x=\"262.5\" y=\"-646.8\" font-family=\"Times,serif\" font-size=\"14.00\" fill=\"#000000\">entropy = 1.583</text>\n<text text-anchor=\"middle\" x=\"262.5\" y=\"-631.8\" font-family=\"Times,serif\" font-size=\"14.00\" fill=\"#000000\">samples = 100</text>\n<text text-anchor=\"middle\" x=\"262.5\" y=\"-616.8\" font-family=\"Times,serif\" font-size=\"14.00\" fill=\"#000000\">value = [31, 35, 34]</text>\n</g>\n<!-- 1 -->\n<g id=\"node2\" class=\"node\">\n<title>1</title>\n<polygon fill=\"none\" stroke=\"#000000\" points=\"249,-565.5 132,-565.5 132,-512.5 249,-512.5 249,-565.5\"/>\n<text text-anchor=\"middle\" x=\"190.5\" y=\"-550.3\" font-family=\"Times,serif\" font-size=\"14.00\" fill=\"#000000\">entropy = 0.0</text>\n<text text-anchor=\"middle\" x=\"190.5\" y=\"-535.3\" font-family=\"Times,serif\" font-size=\"14.00\" fill=\"#000000\">samples = 31</text>\n<text text-anchor=\"middle\" x=\"190.5\" y=\"-520.3\" font-family=\"Times,serif\" font-size=\"14.00\" fill=\"#000000\">value = [31, 0, 0]</text>\n</g>\n<!-- 0&#45;&gt;1 -->\n<g id=\"edge1\" class=\"edge\">\n<title>0&#45;&gt;1</title>\n<path fill=\"none\" stroke=\"#000000\" d=\"M238.9245,-608.9465C231.1463,-597.7113 222.4861,-585.2021 214.6645,-573.9043\"/>\n<polygon fill=\"#000000\" stroke=\"#000000\" points=\"217.4452,-571.7719 208.8753,-565.5422 211.6898,-575.7564 217.4452,-571.7719\"/>\n<text text-anchor=\"middle\" x=\"204.4032\" y=\"-586.4389\" font-family=\"Times,serif\" font-size=\"14.00\" fill=\"#000000\">True</text>\n</g>\n<!-- 2 -->\n<g id=\"node3\" class=\"node\">\n<title>2</title>\n<polygon fill=\"none\" stroke=\"#000000\" points=\"401.5,-573 267.5,-573 267.5,-505 401.5,-505 401.5,-573\"/>\n<text text-anchor=\"middle\" x=\"334.5\" y=\"-557.8\" font-family=\"Times,serif\" font-size=\"14.00\" fill=\"#000000\">Petal.Width &lt;= 1.75</text>\n<text text-anchor=\"middle\" x=\"334.5\" y=\"-542.8\" font-family=\"Times,serif\" font-size=\"14.00\" fill=\"#000000\">entropy = 1.0</text>\n<text text-anchor=\"middle\" x=\"334.5\" y=\"-527.8\" font-family=\"Times,serif\" font-size=\"14.00\" fill=\"#000000\">samples = 69</text>\n<text text-anchor=\"middle\" x=\"334.5\" y=\"-512.8\" font-family=\"Times,serif\" font-size=\"14.00\" fill=\"#000000\">value = [0, 35, 34]</text>\n</g>\n<!-- 0&#45;&gt;2 -->\n<g id=\"edge2\" class=\"edge\">\n<title>0&#45;&gt;2</title>\n<path fill=\"none\" stroke=\"#000000\" d=\"M286.0755,-608.9465C292.1671,-600.1475 298.7996,-590.5672 305.1466,-581.3993\"/>\n<polygon fill=\"#000000\" stroke=\"#000000\" points=\"308.0571,-583.3442 310.8715,-573.13 302.3017,-579.3597 308.0571,-583.3442\"/>\n<text text-anchor=\"middle\" x=\"315.3437\" y=\"-594.0267\" font-family=\"Times,serif\" font-size=\"14.00\" fill=\"#000000\">False</text>\n</g>\n<!-- 3 -->\n<g id=\"node4\" class=\"node\">\n<title>3</title>\n<polygon fill=\"none\" stroke=\"#000000\" points=\"325.5,-469 185.5,-469 185.5,-401 325.5,-401 325.5,-469\"/>\n<text text-anchor=\"middle\" x=\"255.5\" y=\"-453.8\" font-family=\"Times,serif\" font-size=\"14.00\" fill=\"#000000\">Petal.Length &lt;= 5.35</text>\n<text text-anchor=\"middle\" x=\"255.5\" y=\"-438.8\" font-family=\"Times,serif\" font-size=\"14.00\" fill=\"#000000\">entropy = 0.485</text>\n<text text-anchor=\"middle\" x=\"255.5\" y=\"-423.8\" font-family=\"Times,serif\" font-size=\"14.00\" fill=\"#000000\">samples = 38</text>\n<text text-anchor=\"middle\" x=\"255.5\" y=\"-408.8\" font-family=\"Times,serif\" font-size=\"14.00\" fill=\"#000000\">value = [0, 34, 4]</text>\n</g>\n<!-- 2&#45;&gt;3 -->\n<g id=\"edge3\" class=\"edge\">\n<title>2&#45;&gt;3</title>\n<path fill=\"none\" stroke=\"#000000\" d=\"M308.6324,-504.9465C301.8804,-496.0578 294.5226,-486.3716 287.4941,-477.1188\"/>\n<polygon fill=\"#000000\" stroke=\"#000000\" points=\"290.2617,-474.976 281.4257,-469.13 284.6875,-479.2102 290.2617,-474.976\"/>\n</g>\n<!-- 12 -->\n<g id=\"node13\" class=\"node\">\n<title>12</title>\n<polygon fill=\"none\" stroke=\"#000000\" points=\"483.5,-469 343.5,-469 343.5,-401 483.5,-401 483.5,-469\"/>\n<text text-anchor=\"middle\" x=\"413.5\" y=\"-453.8\" font-family=\"Times,serif\" font-size=\"14.00\" fill=\"#000000\">Petal.Length &lt;= 4.85</text>\n<text text-anchor=\"middle\" x=\"413.5\" y=\"-438.8\" font-family=\"Times,serif\" font-size=\"14.00\" fill=\"#000000\">entropy = 0.206</text>\n<text text-anchor=\"middle\" x=\"413.5\" y=\"-423.8\" font-family=\"Times,serif\" font-size=\"14.00\" fill=\"#000000\">samples = 31</text>\n<text text-anchor=\"middle\" x=\"413.5\" y=\"-408.8\" font-family=\"Times,serif\" font-size=\"14.00\" fill=\"#000000\">value = [0, 1, 30]</text>\n</g>\n<!-- 2&#45;&gt;12 -->\n<g id=\"edge12\" class=\"edge\">\n<title>2&#45;&gt;12</title>\n<path fill=\"none\" stroke=\"#000000\" d=\"M360.3676,-504.9465C367.1196,-496.0578 374.4774,-486.3716 381.5059,-477.1188\"/>\n<polygon fill=\"#000000\" stroke=\"#000000\" points=\"384.3125,-479.2102 387.5743,-469.13 378.7383,-474.976 384.3125,-479.2102\"/>\n</g>\n<!-- 4 -->\n<g id=\"node5\" class=\"node\">\n<title>4</title>\n<polygon fill=\"none\" stroke=\"#000000\" points=\"186.5,-365 52.5,-365 52.5,-297 186.5,-297 186.5,-365\"/>\n<text text-anchor=\"middle\" x=\"119.5\" y=\"-349.8\" font-family=\"Times,serif\" font-size=\"14.00\" fill=\"#000000\">Petal.Width &lt;= 1.45</text>\n<text text-anchor=\"middle\" x=\"119.5\" y=\"-334.8\" font-family=\"Times,serif\" font-size=\"14.00\" fill=\"#000000\">entropy = 0.31</text>\n<text text-anchor=\"middle\" x=\"119.5\" y=\"-319.8\" font-family=\"Times,serif\" font-size=\"14.00\" fill=\"#000000\">samples = 36</text>\n<text text-anchor=\"middle\" x=\"119.5\" y=\"-304.8\" font-family=\"Times,serif\" font-size=\"14.00\" fill=\"#000000\">value = [0, 34, 2]</text>\n</g>\n<!-- 3&#45;&gt;4 -->\n<g id=\"edge4\" class=\"edge\">\n<title>3&#45;&gt;4</title>\n<path fill=\"none\" stroke=\"#000000\" d=\"M210.9685,-400.9465C198.6403,-391.519 185.1391,-381.1946 172.385,-371.4415\"/>\n<polygon fill=\"#000000\" stroke=\"#000000\" points=\"174.2012,-368.4243 164.1315,-365.13 169.949,-373.9848 174.2012,-368.4243\"/>\n</g>\n<!-- 11 -->\n<g id=\"node12\" class=\"node\">\n<title>11</title>\n<polygon fill=\"none\" stroke=\"#000000\" points=\"314.5,-357.5 204.5,-357.5 204.5,-304.5 314.5,-304.5 314.5,-357.5\"/>\n<text text-anchor=\"middle\" x=\"259.5\" y=\"-342.3\" font-family=\"Times,serif\" font-size=\"14.00\" fill=\"#000000\">entropy = 0.0</text>\n<text text-anchor=\"middle\" x=\"259.5\" y=\"-327.3\" font-family=\"Times,serif\" font-size=\"14.00\" fill=\"#000000\">samples = 2</text>\n<text text-anchor=\"middle\" x=\"259.5\" y=\"-312.3\" font-family=\"Times,serif\" font-size=\"14.00\" fill=\"#000000\">value = [0, 0, 2]</text>\n</g>\n<!-- 3&#45;&gt;11 -->\n<g id=\"edge11\" class=\"edge\">\n<title>3&#45;&gt;11</title>\n<path fill=\"none\" stroke=\"#000000\" d=\"M256.8097,-400.9465C257.2207,-390.2621 257.6759,-378.4254 258.0933,-367.5742\"/>\n<polygon fill=\"#000000\" stroke=\"#000000\" points=\"261.5921,-367.6693 258.4791,-357.5422 254.5973,-367.4002 261.5921,-367.6693\"/>\n</g>\n<!-- 5 -->\n<g id=\"node6\" class=\"node\">\n<title>5</title>\n<polygon fill=\"none\" stroke=\"#000000\" points=\"117,-253.5 0,-253.5 0,-200.5 117,-200.5 117,-253.5\"/>\n<text text-anchor=\"middle\" x=\"58.5\" y=\"-238.3\" font-family=\"Times,serif\" font-size=\"14.00\" fill=\"#000000\">entropy = 0.0</text>\n<text text-anchor=\"middle\" x=\"58.5\" y=\"-223.3\" font-family=\"Times,serif\" font-size=\"14.00\" fill=\"#000000\">samples = 26</text>\n<text text-anchor=\"middle\" x=\"58.5\" y=\"-208.3\" font-family=\"Times,serif\" font-size=\"14.00\" fill=\"#000000\">value = [0, 26, 0]</text>\n</g>\n<!-- 4&#45;&gt;5 -->\n<g id=\"edge5\" class=\"edge\">\n<title>4&#45;&gt;5</title>\n<path fill=\"none\" stroke=\"#000000\" d=\"M99.5263,-296.9465C93.001,-285.8215 85.7431,-273.4473 79.1678,-262.237\"/>\n<polygon fill=\"#000000\" stroke=\"#000000\" points=\"82.1464,-260.3971 74.068,-253.5422 76.1084,-263.9387 82.1464,-260.3971\"/>\n</g>\n<!-- 6 -->\n<g id=\"node7\" class=\"node\">\n<title>6</title>\n<polygon fill=\"none\" stroke=\"#000000\" points=\"265.5,-261 135.5,-261 135.5,-193 265.5,-193 265.5,-261\"/>\n<text text-anchor=\"middle\" x=\"200.5\" y=\"-245.8\" font-family=\"Times,serif\" font-size=\"14.00\" fill=\"#000000\">Sepal.Width &lt;= 2.6</text>\n<text text-anchor=\"middle\" x=\"200.5\" y=\"-230.8\" font-family=\"Times,serif\" font-size=\"14.00\" fill=\"#000000\">entropy = 0.722</text>\n<text text-anchor=\"middle\" x=\"200.5\" y=\"-215.8\" font-family=\"Times,serif\" font-size=\"14.00\" fill=\"#000000\">samples = 10</text>\n<text text-anchor=\"middle\" x=\"200.5\" y=\"-200.8\" font-family=\"Times,serif\" font-size=\"14.00\" fill=\"#000000\">value = [0, 8, 2]</text>\n</g>\n<!-- 4&#45;&gt;6 -->\n<g id=\"edge6\" class=\"edge\">\n<title>4&#45;&gt;6</title>\n<path fill=\"none\" stroke=\"#000000\" d=\"M146.0224,-296.9465C152.9454,-288.0578 160.4894,-278.3716 167.696,-269.1188\"/>\n<polygon fill=\"#000000\" stroke=\"#000000\" points=\"170.5346,-271.1701 173.918,-261.13 165.012,-266.8688 170.5346,-271.1701\"/>\n</g>\n<!-- 7 -->\n<g id=\"node8\" class=\"node\">\n<title>7</title>\n<polygon fill=\"none\" stroke=\"#000000\" points=\"200,-157 57,-157 57,-89 200,-89 200,-157\"/>\n<text text-anchor=\"middle\" x=\"128.5\" y=\"-141.8\" font-family=\"Times,serif\" font-size=\"14.00\" fill=\"#000000\">Sepal.Length &lt;= 6.15</text>\n<text text-anchor=\"middle\" x=\"128.5\" y=\"-126.8\" font-family=\"Times,serif\" font-size=\"14.00\" fill=\"#000000\">entropy = 0.918</text>\n<text text-anchor=\"middle\" x=\"128.5\" y=\"-111.8\" font-family=\"Times,serif\" font-size=\"14.00\" fill=\"#000000\">samples = 3</text>\n<text text-anchor=\"middle\" x=\"128.5\" y=\"-96.8\" font-family=\"Times,serif\" font-size=\"14.00\" fill=\"#000000\">value = [0, 1, 2]</text>\n</g>\n<!-- 6&#45;&gt;7 -->\n<g id=\"edge7\" class=\"edge\">\n<title>6&#45;&gt;7</title>\n<path fill=\"none\" stroke=\"#000000\" d=\"M176.9245,-192.9465C170.8329,-184.1475 164.2004,-174.5672 157.8534,-165.3993\"/>\n<polygon fill=\"#000000\" stroke=\"#000000\" points=\"160.6983,-163.3597 152.1285,-157.13 154.9429,-167.3442 160.6983,-163.3597\"/>\n</g>\n<!-- 10 -->\n<g id=\"node11\" class=\"node\">\n<title>10</title>\n<polygon fill=\"none\" stroke=\"#000000\" points=\"328.5,-149.5 218.5,-149.5 218.5,-96.5 328.5,-96.5 328.5,-149.5\"/>\n<text text-anchor=\"middle\" x=\"273.5\" y=\"-134.3\" font-family=\"Times,serif\" font-size=\"14.00\" fill=\"#000000\">entropy = 0.0</text>\n<text text-anchor=\"middle\" x=\"273.5\" y=\"-119.3\" font-family=\"Times,serif\" font-size=\"14.00\" fill=\"#000000\">samples = 7</text>\n<text text-anchor=\"middle\" x=\"273.5\" y=\"-104.3\" font-family=\"Times,serif\" font-size=\"14.00\" fill=\"#000000\">value = [0, 7, 0]</text>\n</g>\n<!-- 6&#45;&gt;10 -->\n<g id=\"edge10\" class=\"edge\">\n<title>6&#45;&gt;10</title>\n<path fill=\"none\" stroke=\"#000000\" d=\"M224.4029,-192.9465C232.2892,-181.7113 241.0697,-169.2021 248.9998,-157.9043\"/>\n<polygon fill=\"#000000\" stroke=\"#000000\" points=\"251.9889,-159.7379 254.8694,-149.5422 246.2595,-155.7163 251.9889,-159.7379\"/>\n</g>\n<!-- 8 -->\n<g id=\"node9\" class=\"node\">\n<title>8</title>\n<polygon fill=\"none\" stroke=\"#000000\" points=\"119.5,-53 9.5,-53 9.5,0 119.5,0 119.5,-53\"/>\n<text text-anchor=\"middle\" x=\"64.5\" y=\"-37.8\" font-family=\"Times,serif\" font-size=\"14.00\" fill=\"#000000\">entropy = 0.0</text>\n<text text-anchor=\"middle\" x=\"64.5\" y=\"-22.8\" font-family=\"Times,serif\" font-size=\"14.00\" fill=\"#000000\">samples = 2</text>\n<text text-anchor=\"middle\" x=\"64.5\" y=\"-7.8\" font-family=\"Times,serif\" font-size=\"14.00\" fill=\"#000000\">value = [0, 0, 2]</text>\n</g>\n<!-- 7&#45;&gt;8 -->\n<g id=\"edge8\" class=\"edge\">\n<title>7&#45;&gt;8</title>\n<path fill=\"none\" stroke=\"#000000\" d=\"M105.936,-88.9777C100.1059,-80.187 93.8169,-70.7044 87.943,-61.8477\"/>\n<polygon fill=\"#000000\" stroke=\"#000000\" points=\"90.6838,-59.6478 82.2399,-53.2485 84.8502,-63.5167 90.6838,-59.6478\"/>\n</g>\n<!-- 9 -->\n<g id=\"node10\" class=\"node\">\n<title>9</title>\n<polygon fill=\"none\" stroke=\"#000000\" points=\"247.5,-53 137.5,-53 137.5,0 247.5,0 247.5,-53\"/>\n<text text-anchor=\"middle\" x=\"192.5\" y=\"-37.8\" font-family=\"Times,serif\" font-size=\"14.00\" fill=\"#000000\">entropy = 0.0</text>\n<text text-anchor=\"middle\" x=\"192.5\" y=\"-22.8\" font-family=\"Times,serif\" font-size=\"14.00\" fill=\"#000000\">samples = 1</text>\n<text text-anchor=\"middle\" x=\"192.5\" y=\"-7.8\" font-family=\"Times,serif\" font-size=\"14.00\" fill=\"#000000\">value = [0, 1, 0]</text>\n</g>\n<!-- 7&#45;&gt;9 -->\n<g id=\"edge9\" class=\"edge\">\n<title>7&#45;&gt;9</title>\n<path fill=\"none\" stroke=\"#000000\" d=\"M151.064,-88.9777C156.8941,-80.187 163.1831,-70.7044 169.057,-61.8477\"/>\n<polygon fill=\"#000000\" stroke=\"#000000\" points=\"172.1498,-63.5167 174.7601,-53.2485 166.3162,-59.6478 172.1498,-63.5167\"/>\n</g>\n<!-- 13 -->\n<g id=\"node14\" class=\"node\">\n<title>13</title>\n<polygon fill=\"none\" stroke=\"#000000\" points=\"482,-365 339,-365 339,-297 482,-297 482,-365\"/>\n<text text-anchor=\"middle\" x=\"410.5\" y=\"-349.8\" font-family=\"Times,serif\" font-size=\"14.00\" fill=\"#000000\">Sepal.Length &lt;= 5.95</text>\n<text text-anchor=\"middle\" x=\"410.5\" y=\"-334.8\" font-family=\"Times,serif\" font-size=\"14.00\" fill=\"#000000\">entropy = 0.918</text>\n<text text-anchor=\"middle\" x=\"410.5\" y=\"-319.8\" font-family=\"Times,serif\" font-size=\"14.00\" fill=\"#000000\">samples = 3</text>\n<text text-anchor=\"middle\" x=\"410.5\" y=\"-304.8\" font-family=\"Times,serif\" font-size=\"14.00\" fill=\"#000000\">value = [0, 1, 2]</text>\n</g>\n<!-- 12&#45;&gt;13 -->\n<g id=\"edge13\" class=\"edge\">\n<title>12&#45;&gt;13</title>\n<path fill=\"none\" stroke=\"#000000\" d=\"M412.5177,-400.9465C412.282,-392.776 412.0269,-383.9318 411.7799,-375.3697\"/>\n<polygon fill=\"#000000\" stroke=\"#000000\" points=\"415.2715,-375.0249 411.4845,-365.13 408.2744,-375.2268 415.2715,-375.0249\"/>\n</g>\n<!-- 16 -->\n<g id=\"node17\" class=\"node\">\n<title>16</title>\n<polygon fill=\"none\" stroke=\"#000000\" points=\"617,-357.5 500,-357.5 500,-304.5 617,-304.5 617,-357.5\"/>\n<text text-anchor=\"middle\" x=\"558.5\" y=\"-342.3\" font-family=\"Times,serif\" font-size=\"14.00\" fill=\"#000000\">entropy = 0.0</text>\n<text text-anchor=\"middle\" x=\"558.5\" y=\"-327.3\" font-family=\"Times,serif\" font-size=\"14.00\" fill=\"#000000\">samples = 28</text>\n<text text-anchor=\"middle\" x=\"558.5\" y=\"-312.3\" font-family=\"Times,serif\" font-size=\"14.00\" fill=\"#000000\">value = [0, 0, 28]</text>\n</g>\n<!-- 12&#45;&gt;16 -->\n<g id=\"edge16\" class=\"edge\">\n<title>12&#45;&gt;16</title>\n<path fill=\"none\" stroke=\"#000000\" d=\"M460.9784,-400.9465C477.7179,-388.9403 496.4858,-375.4791 513.0533,-363.5962\"/>\n<polygon fill=\"#000000\" stroke=\"#000000\" points=\"515.408,-366.2146 521.4941,-357.5422 511.3282,-360.5264 515.408,-366.2146\"/>\n</g>\n<!-- 14 -->\n<g id=\"node15\" class=\"node\">\n<title>14</title>\n<polygon fill=\"none\" stroke=\"#000000\" points=\"426.5,-253.5 316.5,-253.5 316.5,-200.5 426.5,-200.5 426.5,-253.5\"/>\n<text text-anchor=\"middle\" x=\"371.5\" y=\"-238.3\" font-family=\"Times,serif\" font-size=\"14.00\" fill=\"#000000\">entropy = 0.0</text>\n<text text-anchor=\"middle\" x=\"371.5\" y=\"-223.3\" font-family=\"Times,serif\" font-size=\"14.00\" fill=\"#000000\">samples = 1</text>\n<text text-anchor=\"middle\" x=\"371.5\" y=\"-208.3\" font-family=\"Times,serif\" font-size=\"14.00\" fill=\"#000000\">value = [0, 1, 0]</text>\n</g>\n<!-- 13&#45;&gt;14 -->\n<g id=\"edge14\" class=\"edge\">\n<title>13&#45;&gt;14</title>\n<path fill=\"none\" stroke=\"#000000\" d=\"M397.7299,-296.9465C393.682,-286.1519 389.193,-274.1813 385.0896,-263.2389\"/>\n<polygon fill=\"#000000\" stroke=\"#000000\" points=\"388.2418,-261.6765 381.4533,-253.5422 381.6875,-264.1344 388.2418,-261.6765\"/>\n</g>\n<!-- 15 -->\n<g id=\"node16\" class=\"node\">\n<title>15</title>\n<polygon fill=\"none\" stroke=\"#000000\" points=\"554.5,-253.5 444.5,-253.5 444.5,-200.5 554.5,-200.5 554.5,-253.5\"/>\n<text text-anchor=\"middle\" x=\"499.5\" y=\"-238.3\" font-family=\"Times,serif\" font-size=\"14.00\" fill=\"#000000\">entropy = 0.0</text>\n<text text-anchor=\"middle\" x=\"499.5\" y=\"-223.3\" font-family=\"Times,serif\" font-size=\"14.00\" fill=\"#000000\">samples = 2</text>\n<text text-anchor=\"middle\" x=\"499.5\" y=\"-208.3\" font-family=\"Times,serif\" font-size=\"14.00\" fill=\"#000000\">value = [0, 0, 2]</text>\n</g>\n<!-- 13&#45;&gt;15 -->\n<g id=\"edge15\" class=\"edge\">\n<title>13&#45;&gt;15</title>\n<path fill=\"none\" stroke=\"#000000\" d=\"M439.6419,-296.9465C449.4452,-285.491 460.3819,-272.711 470.1975,-261.2412\"/>\n<polygon fill=\"#000000\" stroke=\"#000000\" points=\"472.9433,-263.4156 476.786,-253.5422 467.6249,-258.8642 472.9433,-263.4156\"/>\n</g>\n</g>\n</svg>\n"
          },
          "metadata": {
            "tags": []
          },
          "execution_count": 41
        }
      ]
    },
    {
      "cell_type": "markdown",
      "metadata": {
        "id": "Ybo8BpFZ6__O"
      },
      "source": [
        "### Pruning the tree"
      ]
    },
    {
      "cell_type": "code",
      "metadata": {
        "colab": {
          "base_uri": "https://localhost:8080/",
          "height": 0
        },
        "id": "cJW0zV4n6__O",
        "outputId": "bde8aac2-353f-400e-e47b-08d6ff723cc0"
      },
      "source": [
        "X = data[predictors]\n",
        "Y = data[target]\n",
        "tree = DecisionTreeClassifier(criterion = \"entropy\",max_depth= 5, min_samples_split=20,random_state=99)\n",
        "tree.fit(X_train,y_train)"
      ],
      "execution_count": 42,
      "outputs": [
        {
          "output_type": "execute_result",
          "data": {
            "text/plain": [
              "DecisionTreeClassifier(ccp_alpha=0.0, class_weight=None, criterion='entropy',\n",
              "                       max_depth=5, max_features=None, max_leaf_nodes=None,\n",
              "                       min_impurity_decrease=0.0, min_impurity_split=None,\n",
              "                       min_samples_leaf=1, min_samples_split=20,\n",
              "                       min_weight_fraction_leaf=0.0, presort='deprecated',\n",
              "                       random_state=99, splitter='best')"
            ]
          },
          "metadata": {
            "tags": []
          },
          "execution_count": 42
        }
      ]
    },
    {
      "cell_type": "code",
      "metadata": {
        "id": "4SyA82pn-qwI"
      },
      "source": [
        "with open(\"iris_dtree.dot\",\"w\") as dotfile:\n",
        "    export_graphviz(tree, out_file = dotfile, feature_names = predictors)\n",
        "    dotfile.close()"
      ],
      "execution_count": 43,
      "outputs": []
    },
    {
      "cell_type": "code",
      "metadata": {
        "colab": {
          "base_uri": "https://localhost:8080/",
          "height": 120
        },
        "id": "zTbnsNFm-uBc",
        "outputId": "9e00277c-ed14-47ef-b1b0-b7b1a47e02de"
      },
      "source": [
        "file = open(\"iris_dtree.dot\",\"r\")\n",
        "text = file.read()\n",
        "text"
      ],
      "execution_count": 44,
      "outputs": [
        {
          "output_type": "execute_result",
          "data": {
            "application/vnd.google.colaboratory.intrinsic+json": {
              "type": "string"
            },
            "text/plain": [
              "'digraph Tree {\\nnode [shape=box] ;\\n0 [label=\"Petal.Length <= 2.45\\\\nentropy = 1.583\\\\nsamples = 100\\\\nvalue = [31, 35, 34]\"] ;\\n1 [label=\"entropy = 0.0\\\\nsamples = 31\\\\nvalue = [31, 0, 0]\"] ;\\n0 -> 1 [labeldistance=2.5, labelangle=45, headlabel=\"True\"] ;\\n2 [label=\"Petal.Width <= 1.75\\\\nentropy = 1.0\\\\nsamples = 69\\\\nvalue = [0, 35, 34]\"] ;\\n0 -> 2 [labeldistance=2.5, labelangle=-45, headlabel=\"False\"] ;\\n3 [label=\"Petal.Length <= 5.35\\\\nentropy = 0.485\\\\nsamples = 38\\\\nvalue = [0, 34, 4]\"] ;\\n2 -> 3 ;\\n4 [label=\"Petal.Width <= 1.45\\\\nentropy = 0.31\\\\nsamples = 36\\\\nvalue = [0, 34, 2]\"] ;\\n3 -> 4 ;\\n5 [label=\"entropy = 0.0\\\\nsamples = 26\\\\nvalue = [0, 26, 0]\"] ;\\n4 -> 5 ;\\n6 [label=\"entropy = 0.722\\\\nsamples = 10\\\\nvalue = [0, 8, 2]\"] ;\\n4 -> 6 ;\\n7 [label=\"entropy = 0.0\\\\nsamples = 2\\\\nvalue = [0, 0, 2]\"] ;\\n3 -> 7 ;\\n8 [label=\"Petal.Length <= 4.85\\\\nentropy = 0.206\\\\nsamples = 31\\\\nvalue = [0, 1, 30]\"] ;\\n2 -> 8 ;\\n9 [label=\"entropy = 0.918\\\\nsamples = 3\\\\nvalue = [0, 1, 2]\"] ;\\n8 -> 9 ;\\n10 [label=\"entropy = 0.0\\\\nsamples = 28\\\\nvalue = [0, 0, 28]\"] ;\\n8 -> 10 ;\\n}'"
            ]
          },
          "metadata": {
            "tags": []
          },
          "execution_count": 44
        }
      ]
    },
    {
      "cell_type": "code",
      "metadata": {
        "colab": {
          "base_uri": "https://localhost:8080/",
          "height": 657
        },
        "id": "t1WOWavo-0wz",
        "outputId": "50ba6353-361d-4fc9-a5b4-04521af43d43"
      },
      "source": [
        "Source(text)"
      ],
      "execution_count": 45,
      "outputs": [
        {
          "output_type": "execute_result",
          "data": {
            "text/plain": [
              "<graphviz.files.Source at 0x7fd1f1749910>"
            ],
            "image/svg+xml": "<?xml version=\"1.0\" encoding=\"UTF-8\" standalone=\"no\"?>\n<!DOCTYPE svg PUBLIC \"-//W3C//DTD SVG 1.1//EN\"\n \"http://www.w3.org/Graphics/SVG/1.1/DTD/svg11.dtd\">\n<!-- Generated by graphviz version 2.40.1 (20161225.0304)\n -->\n<!-- Title: Tree Pages: 1 -->\n<svg width=\"606pt\" height=\"477pt\"\n viewBox=\"0.00 0.00 606.00 477.00\" xmlns=\"http://www.w3.org/2000/svg\" xmlns:xlink=\"http://www.w3.org/1999/xlink\">\n<g id=\"graph0\" class=\"graph\" transform=\"scale(1 1) rotate(0) translate(4 473)\">\n<title>Tree</title>\n<polygon fill=\"#ffffff\" stroke=\"transparent\" points=\"-4,4 -4,-473 602,-473 602,4 -4,4\"/>\n<!-- 0 -->\n<g id=\"node1\" class=\"node\">\n<title>0</title>\n<polygon fill=\"none\" stroke=\"#000000\" points=\"333.5,-469 193.5,-469 193.5,-401 333.5,-401 333.5,-469\"/>\n<text text-anchor=\"middle\" x=\"263.5\" y=\"-453.8\" font-family=\"Times,serif\" font-size=\"14.00\" fill=\"#000000\">Petal.Length &lt;= 2.45</text>\n<text text-anchor=\"middle\" x=\"263.5\" y=\"-438.8\" font-family=\"Times,serif\" font-size=\"14.00\" fill=\"#000000\">entropy = 1.583</text>\n<text text-anchor=\"middle\" x=\"263.5\" y=\"-423.8\" font-family=\"Times,serif\" font-size=\"14.00\" fill=\"#000000\">samples = 100</text>\n<text text-anchor=\"middle\" x=\"263.5\" y=\"-408.8\" font-family=\"Times,serif\" font-size=\"14.00\" fill=\"#000000\">value = [31, 35, 34]</text>\n</g>\n<!-- 1 -->\n<g id=\"node2\" class=\"node\">\n<title>1</title>\n<polygon fill=\"none\" stroke=\"#000000\" points=\"250,-357.5 133,-357.5 133,-304.5 250,-304.5 250,-357.5\"/>\n<text text-anchor=\"middle\" x=\"191.5\" y=\"-342.3\" font-family=\"Times,serif\" font-size=\"14.00\" fill=\"#000000\">entropy = 0.0</text>\n<text text-anchor=\"middle\" x=\"191.5\" y=\"-327.3\" font-family=\"Times,serif\" font-size=\"14.00\" fill=\"#000000\">samples = 31</text>\n<text text-anchor=\"middle\" x=\"191.5\" y=\"-312.3\" font-family=\"Times,serif\" font-size=\"14.00\" fill=\"#000000\">value = [31, 0, 0]</text>\n</g>\n<!-- 0&#45;&gt;1 -->\n<g id=\"edge1\" class=\"edge\">\n<title>0&#45;&gt;1</title>\n<path fill=\"none\" stroke=\"#000000\" d=\"M239.9245,-400.9465C232.1463,-389.7113 223.4861,-377.2021 215.6645,-365.9043\"/>\n<polygon fill=\"#000000\" stroke=\"#000000\" points=\"218.4452,-363.7719 209.8753,-357.5422 212.6898,-367.7564 218.4452,-363.7719\"/>\n<text text-anchor=\"middle\" x=\"205.4032\" y=\"-378.4389\" font-family=\"Times,serif\" font-size=\"14.00\" fill=\"#000000\">True</text>\n</g>\n<!-- 2 -->\n<g id=\"node3\" class=\"node\">\n<title>2</title>\n<polygon fill=\"none\" stroke=\"#000000\" points=\"402.5,-365 268.5,-365 268.5,-297 402.5,-297 402.5,-365\"/>\n<text text-anchor=\"middle\" x=\"335.5\" y=\"-349.8\" font-family=\"Times,serif\" font-size=\"14.00\" fill=\"#000000\">Petal.Width &lt;= 1.75</text>\n<text text-anchor=\"middle\" x=\"335.5\" y=\"-334.8\" font-family=\"Times,serif\" font-size=\"14.00\" fill=\"#000000\">entropy = 1.0</text>\n<text text-anchor=\"middle\" x=\"335.5\" y=\"-319.8\" font-family=\"Times,serif\" font-size=\"14.00\" fill=\"#000000\">samples = 69</text>\n<text text-anchor=\"middle\" x=\"335.5\" y=\"-304.8\" font-family=\"Times,serif\" font-size=\"14.00\" fill=\"#000000\">value = [0, 35, 34]</text>\n</g>\n<!-- 0&#45;&gt;2 -->\n<g id=\"edge2\" class=\"edge\">\n<title>0&#45;&gt;2</title>\n<path fill=\"none\" stroke=\"#000000\" d=\"M287.0755,-400.9465C293.1671,-392.1475 299.7996,-382.5672 306.1466,-373.3993\"/>\n<polygon fill=\"#000000\" stroke=\"#000000\" points=\"309.0571,-375.3442 311.8715,-365.13 303.3017,-371.3597 309.0571,-375.3442\"/>\n<text text-anchor=\"middle\" x=\"316.3437\" y=\"-386.0267\" font-family=\"Times,serif\" font-size=\"14.00\" fill=\"#000000\">False</text>\n</g>\n<!-- 3 -->\n<g id=\"node4\" class=\"node\">\n<title>3</title>\n<polygon fill=\"none\" stroke=\"#000000\" points=\"326.5,-261 186.5,-261 186.5,-193 326.5,-193 326.5,-261\"/>\n<text text-anchor=\"middle\" x=\"256.5\" y=\"-245.8\" font-family=\"Times,serif\" font-size=\"14.00\" fill=\"#000000\">Petal.Length &lt;= 5.35</text>\n<text text-anchor=\"middle\" x=\"256.5\" y=\"-230.8\" font-family=\"Times,serif\" font-size=\"14.00\" fill=\"#000000\">entropy = 0.485</text>\n<text text-anchor=\"middle\" x=\"256.5\" y=\"-215.8\" font-family=\"Times,serif\" font-size=\"14.00\" fill=\"#000000\">samples = 38</text>\n<text text-anchor=\"middle\" x=\"256.5\" y=\"-200.8\" font-family=\"Times,serif\" font-size=\"14.00\" fill=\"#000000\">value = [0, 34, 4]</text>\n</g>\n<!-- 2&#45;&gt;3 -->\n<g id=\"edge3\" class=\"edge\">\n<title>2&#45;&gt;3</title>\n<path fill=\"none\" stroke=\"#000000\" d=\"M309.6324,-296.9465C302.8804,-288.0578 295.5226,-278.3716 288.4941,-269.1188\"/>\n<polygon fill=\"#000000\" stroke=\"#000000\" points=\"291.2617,-266.976 282.4257,-261.13 285.6875,-271.2102 291.2617,-266.976\"/>\n</g>\n<!-- 8 -->\n<g id=\"node9\" class=\"node\">\n<title>8</title>\n<polygon fill=\"none\" stroke=\"#000000\" points=\"484.5,-261 344.5,-261 344.5,-193 484.5,-193 484.5,-261\"/>\n<text text-anchor=\"middle\" x=\"414.5\" y=\"-245.8\" font-family=\"Times,serif\" font-size=\"14.00\" fill=\"#000000\">Petal.Length &lt;= 4.85</text>\n<text text-anchor=\"middle\" x=\"414.5\" y=\"-230.8\" font-family=\"Times,serif\" font-size=\"14.00\" fill=\"#000000\">entropy = 0.206</text>\n<text text-anchor=\"middle\" x=\"414.5\" y=\"-215.8\" font-family=\"Times,serif\" font-size=\"14.00\" fill=\"#000000\">samples = 31</text>\n<text text-anchor=\"middle\" x=\"414.5\" y=\"-200.8\" font-family=\"Times,serif\" font-size=\"14.00\" fill=\"#000000\">value = [0, 1, 30]</text>\n</g>\n<!-- 2&#45;&gt;8 -->\n<g id=\"edge8\" class=\"edge\">\n<title>2&#45;&gt;8</title>\n<path fill=\"none\" stroke=\"#000000\" d=\"M361.3676,-296.9465C368.1196,-288.0578 375.4774,-278.3716 382.5059,-269.1188\"/>\n<polygon fill=\"#000000\" stroke=\"#000000\" points=\"385.3125,-271.2102 388.5743,-261.13 379.7383,-266.976 385.3125,-271.2102\"/>\n</g>\n<!-- 4 -->\n<g id=\"node5\" class=\"node\">\n<title>4</title>\n<polygon fill=\"none\" stroke=\"#000000\" points=\"191.5,-157 57.5,-157 57.5,-89 191.5,-89 191.5,-157\"/>\n<text text-anchor=\"middle\" x=\"124.5\" y=\"-141.8\" font-family=\"Times,serif\" font-size=\"14.00\" fill=\"#000000\">Petal.Width &lt;= 1.45</text>\n<text text-anchor=\"middle\" x=\"124.5\" y=\"-126.8\" font-family=\"Times,serif\" font-size=\"14.00\" fill=\"#000000\">entropy = 0.31</text>\n<text text-anchor=\"middle\" x=\"124.5\" y=\"-111.8\" font-family=\"Times,serif\" font-size=\"14.00\" fill=\"#000000\">samples = 36</text>\n<text text-anchor=\"middle\" x=\"124.5\" y=\"-96.8\" font-family=\"Times,serif\" font-size=\"14.00\" fill=\"#000000\">value = [0, 34, 2]</text>\n</g>\n<!-- 3&#45;&gt;4 -->\n<g id=\"edge4\" class=\"edge\">\n<title>3&#45;&gt;4</title>\n<path fill=\"none\" stroke=\"#000000\" d=\"M213.2783,-192.9465C201.3126,-183.519 188.2085,-173.1946 175.8296,-163.4415\"/>\n<polygon fill=\"#000000\" stroke=\"#000000\" points=\"177.8398,-160.5695 167.8188,-157.13 173.5077,-166.068 177.8398,-160.5695\"/>\n</g>\n<!-- 7 -->\n<g id=\"node8\" class=\"node\">\n<title>7</title>\n<polygon fill=\"none\" stroke=\"#000000\" points=\"319.5,-149.5 209.5,-149.5 209.5,-96.5 319.5,-96.5 319.5,-149.5\"/>\n<text text-anchor=\"middle\" x=\"264.5\" y=\"-134.3\" font-family=\"Times,serif\" font-size=\"14.00\" fill=\"#000000\">entropy = 0.0</text>\n<text text-anchor=\"middle\" x=\"264.5\" y=\"-119.3\" font-family=\"Times,serif\" font-size=\"14.00\" fill=\"#000000\">samples = 2</text>\n<text text-anchor=\"middle\" x=\"264.5\" y=\"-104.3\" font-family=\"Times,serif\" font-size=\"14.00\" fill=\"#000000\">value = [0, 0, 2]</text>\n</g>\n<!-- 3&#45;&gt;7 -->\n<g id=\"edge7\" class=\"edge\">\n<title>3&#45;&gt;7</title>\n<path fill=\"none\" stroke=\"#000000\" d=\"M259.1195,-192.9465C259.9414,-182.2621 260.8519,-170.4254 261.6866,-159.5742\"/>\n<polygon fill=\"#000000\" stroke=\"#000000\" points=\"265.1809,-159.7812 262.4583,-149.5422 258.2015,-159.2442 265.1809,-159.7812\"/>\n</g>\n<!-- 5 -->\n<g id=\"node6\" class=\"node\">\n<title>5</title>\n<polygon fill=\"none\" stroke=\"#000000\" points=\"117,-53 0,-53 0,0 117,0 117,-53\"/>\n<text text-anchor=\"middle\" x=\"58.5\" y=\"-37.8\" font-family=\"Times,serif\" font-size=\"14.00\" fill=\"#000000\">entropy = 0.0</text>\n<text text-anchor=\"middle\" x=\"58.5\" y=\"-22.8\" font-family=\"Times,serif\" font-size=\"14.00\" fill=\"#000000\">samples = 26</text>\n<text text-anchor=\"middle\" x=\"58.5\" y=\"-7.8\" font-family=\"Times,serif\" font-size=\"14.00\" fill=\"#000000\">value = [0, 26, 0]</text>\n</g>\n<!-- 4&#45;&gt;5 -->\n<g id=\"edge5\" class=\"edge\">\n<title>4&#45;&gt;5</title>\n<path fill=\"none\" stroke=\"#000000\" d=\"M101.2309,-88.9777C95.156,-80.0954 88.5979,-70.5067 82.4865,-61.5711\"/>\n<polygon fill=\"#000000\" stroke=\"#000000\" points=\"85.3286,-59.5267 76.7943,-53.2485 79.5507,-63.4785 85.3286,-59.5267\"/>\n</g>\n<!-- 6 -->\n<g id=\"node7\" class=\"node\">\n<title>6</title>\n<polygon fill=\"none\" stroke=\"#000000\" points=\"245.5,-53 135.5,-53 135.5,0 245.5,0 245.5,-53\"/>\n<text text-anchor=\"middle\" x=\"190.5\" y=\"-37.8\" font-family=\"Times,serif\" font-size=\"14.00\" fill=\"#000000\">entropy = 0.722</text>\n<text text-anchor=\"middle\" x=\"190.5\" y=\"-22.8\" font-family=\"Times,serif\" font-size=\"14.00\" fill=\"#000000\">samples = 10</text>\n<text text-anchor=\"middle\" x=\"190.5\" y=\"-7.8\" font-family=\"Times,serif\" font-size=\"14.00\" fill=\"#000000\">value = [0, 8, 2]</text>\n</g>\n<!-- 4&#45;&gt;6 -->\n<g id=\"edge6\" class=\"edge\">\n<title>4&#45;&gt;6</title>\n<path fill=\"none\" stroke=\"#000000\" d=\"M147.7691,-88.9777C153.844,-80.0954 160.4021,-70.5067 166.5135,-61.5711\"/>\n<polygon fill=\"#000000\" stroke=\"#000000\" points=\"169.4493,-63.4785 172.2057,-53.2485 163.6714,-59.5267 169.4493,-63.4785\"/>\n</g>\n<!-- 9 -->\n<g id=\"node10\" class=\"node\">\n<title>9</title>\n<polygon fill=\"none\" stroke=\"#000000\" points=\"462.5,-149.5 352.5,-149.5 352.5,-96.5 462.5,-96.5 462.5,-149.5\"/>\n<text text-anchor=\"middle\" x=\"407.5\" y=\"-134.3\" font-family=\"Times,serif\" font-size=\"14.00\" fill=\"#000000\">entropy = 0.918</text>\n<text text-anchor=\"middle\" x=\"407.5\" y=\"-119.3\" font-family=\"Times,serif\" font-size=\"14.00\" fill=\"#000000\">samples = 3</text>\n<text text-anchor=\"middle\" x=\"407.5\" y=\"-104.3\" font-family=\"Times,serif\" font-size=\"14.00\" fill=\"#000000\">value = [0, 1, 2]</text>\n</g>\n<!-- 8&#45;&gt;9 -->\n<g id=\"edge9\" class=\"edge\">\n<title>8&#45;&gt;9</title>\n<path fill=\"none\" stroke=\"#000000\" d=\"M412.2079,-192.9465C411.4888,-182.2621 410.6921,-170.4254 409.9617,-159.5742\"/>\n<polygon fill=\"#000000\" stroke=\"#000000\" points=\"413.4502,-159.2845 409.2865,-149.5422 406.466,-159.7547 413.4502,-159.2845\"/>\n</g>\n<!-- 10 -->\n<g id=\"node11\" class=\"node\">\n<title>10</title>\n<polygon fill=\"none\" stroke=\"#000000\" points=\"598,-149.5 481,-149.5 481,-96.5 598,-96.5 598,-149.5\"/>\n<text text-anchor=\"middle\" x=\"539.5\" y=\"-134.3\" font-family=\"Times,serif\" font-size=\"14.00\" fill=\"#000000\">entropy = 0.0</text>\n<text text-anchor=\"middle\" x=\"539.5\" y=\"-119.3\" font-family=\"Times,serif\" font-size=\"14.00\" fill=\"#000000\">samples = 28</text>\n<text text-anchor=\"middle\" x=\"539.5\" y=\"-104.3\" font-family=\"Times,serif\" font-size=\"14.00\" fill=\"#000000\">value = [0, 0, 28]</text>\n</g>\n<!-- 8&#45;&gt;10 -->\n<g id=\"edge10\" class=\"edge\">\n<title>8&#45;&gt;10</title>\n<path fill=\"none\" stroke=\"#000000\" d=\"M455.4297,-192.9465C469.5955,-181.1606 485.4463,-167.9726 499.5338,-156.2519\"/>\n<polygon fill=\"#000000\" stroke=\"#000000\" points=\"502.1496,-158.6285 507.5984,-149.5422 497.6725,-153.2474 502.1496,-158.6285\"/>\n</g>\n</g>\n</svg>\n"
          },
          "metadata": {
            "tags": []
          },
          "execution_count": 45
        }
      ]
    },
    {
      "cell_type": "code",
      "metadata": {
        "colab": {
          "base_uri": "https://localhost:8080/",
          "height": 469
        },
        "id": "isrL6sbpKVOe",
        "outputId": "9e8c07d0-9daa-462f-8f2e-2f532ba382e7"
      },
      "source": [
        "from sklearn.tree import plot_tree\n",
        "plot_tree(tree)"
      ],
      "execution_count": 105,
      "outputs": [
        {
          "output_type": "execute_result",
          "data": {
            "text/plain": [
              "[Text(148.8, 199.32, 'X[2] <= 2.45\\nentropy = 1.583\\nsamples = 100\\nvalue = [31, 35, 34]'),\n",
              " Text(111.60000000000001, 163.07999999999998, 'entropy = 0.0\\nsamples = 31\\nvalue = [31, 0, 0]'),\n",
              " Text(186.0, 163.07999999999998, 'X[3] <= 1.75\\nentropy = 1.0\\nsamples = 69\\nvalue = [0, 35, 34]'),\n",
              " Text(111.60000000000001, 126.83999999999999, 'X[2] <= 5.35\\nentropy = 0.485\\nsamples = 38\\nvalue = [0, 34, 4]'),\n",
              " Text(74.4, 90.6, 'X[3] <= 1.45\\nentropy = 0.31\\nsamples = 36\\nvalue = [0, 34, 2]'),\n",
              " Text(37.2, 54.359999999999985, 'entropy = 0.0\\nsamples = 26\\nvalue = [0, 26, 0]'),\n",
              " Text(111.60000000000001, 54.359999999999985, 'X[1] <= 2.6\\nentropy = 0.722\\nsamples = 10\\nvalue = [0, 8, 2]'),\n",
              " Text(74.4, 18.119999999999976, 'entropy = 0.918\\nsamples = 3\\nvalue = [0, 1, 2]'),\n",
              " Text(148.8, 18.119999999999976, 'entropy = 0.0\\nsamples = 7\\nvalue = [0, 7, 0]'),\n",
              " Text(148.8, 90.6, 'entropy = 0.0\\nsamples = 2\\nvalue = [0, 0, 2]'),\n",
              " Text(260.40000000000003, 126.83999999999999, 'X[2] <= 4.85\\nentropy = 0.206\\nsamples = 31\\nvalue = [0, 1, 30]'),\n",
              " Text(223.20000000000002, 90.6, 'entropy = 0.918\\nsamples = 3\\nvalue = [0, 1, 2]'),\n",
              " Text(297.6, 90.6, 'entropy = 0.0\\nsamples = 28\\nvalue = [0, 0, 28]')]"
            ]
          },
          "metadata": {
            "tags": []
          },
          "execution_count": 105
        },
        {
          "output_type": "display_data",
          "data": {
            "image/png": "[encoded data removed]",
            "text/plain": [
              "<Figure size 432x288 with 1 Axes>"
            ]
          },
          "metadata": {
            "tags": [],
            "needs_background": "light"
          }
        }
      ]
    },
    {
      "cell_type": "code",
      "metadata": {
        "id": "a1wgFfp_6__P"
      },
      "source": [
        "from sklearn.model_selection import KFold"
      ],
      "execution_count": 47,
      "outputs": []
    },
    {
      "cell_type": "code",
      "metadata": {
        "collapsed": true,
        "id": "AKlA4GkL6__P"
      },
      "source": [
        "cv = KFold(n_splits=10, shuffle = True, random_state=1)"
      ],
      "execution_count": 49,
      "outputs": []
    },
    {
      "cell_type": "code",
      "metadata": {
        "collapsed": true,
        "id": "DCiSmeVH6__P"
      },
      "source": [
        "from sklearn.model_selection import cross_val_score"
      ],
      "execution_count": 51,
      "outputs": []
    },
    {
      "cell_type": "code",
      "metadata": {
        "collapsed": true,
        "id": "T5P9zs2d6__P"
      },
      "source": [
        "score = np.mean(cross_val_score(tree, X, Y, scoring=\"accuracy\", cv = cv, n_jobs=1))"
      ],
      "execution_count": 52,
      "outputs": []
    },
    {
      "cell_type": "code",
      "metadata": {
        "colab": {
          "base_uri": "https://localhost:8080/",
          "height": 0
        },
        "id": "t_7hSZf06__Q",
        "outputId": "ef0c352d-c856-4a3e-ee88-a020bda4d1c8"
      },
      "source": [
        "score"
      ],
      "execution_count": 53,
      "outputs": [
        {
          "output_type": "execute_result",
          "data": {
            "text/plain": [
              "0.9333333333333333"
            ]
          },
          "metadata": {
            "tags": []
          },
          "execution_count": 53
        }
      ]
    },
    {
      "cell_type": "markdown",
      "metadata": {
        "id": "7JCkulTfBAO9"
      },
      "source": [
        "Let's see how cross_val_score is affected when increasing max_depth parameter"
      ]
    },
    {
      "cell_type": "code",
      "metadata": {
        "colab": {
          "base_uri": "https://localhost:8080/",
          "height": 0
        },
        "id": "xboVbyUr6__Q",
        "outputId": "9b352052-1541-435d-d2f0-ab6fe64d9587"
      },
      "source": [
        "for i in range(1,10):\n",
        "    tree = DecisionTreeClassifier(criterion = \"entropy\",max_depth= i, \n",
        "                                  min_samples_split=5,random_state=99)\n",
        "    tree.fit(X_train,y_train)\n",
        "    cv = KFold(n_splits=10, shuffle = True, random_state=1)\n",
        "    score = np.mean(cross_val_score(tree, X, Y, scoring=\"accuracy\", \n",
        "                                    cv = cv, n_jobs=1))\n",
        "    print(\"max_depth = \",i,\"cross_val_score: \",score)"
      ],
      "execution_count": 55,
      "outputs": [
        {
          "output_type": "stream",
          "text": [
            "max_depth =  1 cross_val_score:  0.5666666666666667\n",
            "max_depth =  2 cross_val_score:  0.9200000000000002\n",
            "max_depth =  3 cross_val_score:  0.9400000000000001\n",
            "max_depth =  4 cross_val_score:  0.9333333333333333\n",
            "max_depth =  5 cross_val_score:  0.9333333333333333\n",
            "max_depth =  6 cross_val_score:  0.9333333333333333\n",
            "max_depth =  7 cross_val_score:  0.9333333333333333\n",
            "max_depth =  8 cross_val_score:  0.9333333333333333\n",
            "max_depth =  9 cross_val_score:  0.9333333333333333\n"
          ],
          "name": "stdout"
        }
      ]
    },
    {
      "cell_type": "markdown",
      "metadata": {
        "id": "qcMcyH9N6__Q"
      },
      "source": [
        "max_depth = 3 gives the highest score. Also, when max_depth is greater than 3 cross_val_score decreases. It means that overfitting efect appears for these max_depth levels."
      ]
    },
    {
      "cell_type": "markdown",
      "metadata": {
        "collapsed": true,
        "id": "I0LAdT3d6__Q"
      },
      "source": [
        "### Random forest classifier"
      ]
    },
    {
      "cell_type": "code",
      "metadata": {
        "id": "kL4gmE-u6__R"
      },
      "source": [
        "from sklearn.ensemble import RandomForestClassifier"
      ],
      "execution_count": 56,
      "outputs": []
    },
    {
      "cell_type": "code",
      "metadata": {
        "colab": {
          "base_uri": "https://localhost:8080/",
          "height": 0
        },
        "id": "tv84En2z6__R",
        "outputId": "ca92e9de-f817-4a70-e939-97facaa0fba5"
      },
      "source": [
        "# n_estimators means the number of trees in forest\n",
        "n_estimator = [5,9,14,18,22]\n",
        "\n",
        "for n_est in n_estimator:\n",
        "  forest = RandomForestClassifier(n_jobs=2,oob_score=True,n_estimators=n_est)\n",
        "  forest.fit(X,Y)\n",
        "  print(\"n_estimator\",\": \",n_est,\": \",forest.oob_score_)"
      ],
      "execution_count": 92,
      "outputs": [
        {
          "output_type": "stream",
          "text": [
            "/usr/local/lib/python3.7/dist-packages/sklearn/ensemble/_forest.py:523: UserWarning: Some inputs do not have OOB scores. This probably means too few trees were used to compute any reliable oob estimates.\n",
            "  warn(\"Some inputs do not have OOB scores. \"\n",
            "/usr/local/lib/python3.7/dist-packages/sklearn/ensemble/_forest.py:528: RuntimeWarning: invalid value encountered in true_divide\n",
            "  predictions[k].sum(axis=1)[:, np.newaxis])\n",
            "/usr/local/lib/python3.7/dist-packages/sklearn/ensemble/_forest.py:523: UserWarning: Some inputs do not have OOB scores. This probably means too few trees were used to compute any reliable oob estimates.\n",
            "  warn(\"Some inputs do not have OOB scores. \"\n",
            "/usr/local/lib/python3.7/dist-packages/sklearn/ensemble/_forest.py:528: RuntimeWarning: invalid value encountered in true_divide\n",
            "  predictions[k].sum(axis=1)[:, np.newaxis])\n"
          ],
          "name": "stderr"
        },
        {
          "output_type": "stream",
          "text": [
            "n_estimator :  5 :  0.8933333333333333\n",
            "n_estimator :  9 :  0.9466666666666667\n",
            "n_estimator :  14 :  0.9466666666666667\n",
            "n_estimator :  18 :  0.9533333333333334\n",
            "n_estimator :  22 :  0.9466666666666667\n"
          ],
          "name": "stdout"
        }
      ]
    },
    {
      "cell_type": "code",
      "metadata": {
        "colab": {
          "base_uri": "https://localhost:8080/",
          "height": 0
        },
        "id": "s9NIsDve6__R",
        "outputId": "84995117-959d-4da1-d50d-9d3f595b0f2b"
      },
      "source": [
        "forest = RandomForestClassifier(n_jobs=2,oob_score=True,n_estimators=18)\n",
        "forest.fit(X,Y)\n",
        "print(forest.oob_score_)"
      ],
      "execution_count": 93,
      "outputs": [
        {
          "output_type": "stream",
          "text": [
            "0.9533333333333334\n"
          ],
          "name": "stdout"
        }
      ]
    },
    {
      "cell_type": "markdown",
      "metadata": {
        "id": "sRGAbIutDnwu"
      },
      "source": [
        "### Conclusion"
      ]
    },
    {
      "cell_type": "markdown",
      "metadata": {
        "id": "tNF7z_OeFnnF"
      },
      "source": [
        "For iris dataset, the following results were reached:\n",
        "* Decision Tree technic with max_deph = 3 has a score = 94%\n",
        "* Random Forest technic with 18 trees has a score = 95.3%"
      ]
    }
  ]
}